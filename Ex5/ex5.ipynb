{
  "cells": [
    {
      "cell_type": "code",
      "execution_count": 3,
      "metadata": {
        "id": "8dJSd0uMnySs"
      },
      "outputs": [
        {
          "ename": "ModuleNotFoundError",
          "evalue": "No module named 'pandas'",
          "output_type": "error",
          "traceback": [
            "\u001b[1;31m---------------------------------------------------------------------------\u001b[0m",
            "\u001b[1;31mModuleNotFoundError\u001b[0m                       Traceback (most recent call last)",
            "Cell \u001b[1;32mIn [3], line 1\u001b[0m\n\u001b[1;32m----> 1\u001b[0m \u001b[38;5;28;01mimport\u001b[39;00m \u001b[38;5;21;01mpandas\u001b[39;00m \u001b[38;5;28;01mas\u001b[39;00m \u001b[38;5;21;01mpd\u001b[39;00m\n\u001b[0;32m      2\u001b[0m \u001b[38;5;28;01mimport\u001b[39;00m \u001b[38;5;21;01mnumpy\u001b[39;00m \u001b[38;5;28;01mas\u001b[39;00m \u001b[38;5;21;01mnp\u001b[39;00m\n\u001b[0;32m      4\u001b[0m \u001b[38;5;66;03m# 1. importar os dados de CSV do dataset de seeds:\u001b[39;00m\n",
            "\u001b[1;31mModuleNotFoundError\u001b[0m: No module named 'pandas'"
          ]
        }
      ],
      "source": [
        "import pandas as pd\n",
        "import numpy as np\n",
        "\n",
        "# 1. importar os dados de CSV do dataset de seeds:\n",
        "seeds = pd.read_csv('https://raw.githubusercontent.com/celsocrivelaro/simple-datasets/main/seeds.csv',index_col=None ,header=None)"
      ]
    },
    {
      "cell_type": "code",
      "execution_count": null,
      "metadata": {
        "id": "pKHiuNPxn9Zp"
      },
      "outputs": [],
      "source": [
        "# 2. colocar as linhas de cabeçalho: \n",
        "  # 1. Área A,\n",
        "  # 2. Perímetro P,\n",
        "  # 3. Extensão do núcleo,\n",
        "  # 4. Largura,\n",
        "  # 5. Coeficiente de Assimetria\n",
        "  # 6. Extensão do sulgo do núcleo.\n",
        "seeds.columns = ['Área A',\n",
        "                 'Perímetro P',\n",
        "                 'Extensão do núcleo',\n",
        "                 'Largura',\n",
        "                 'Coeficiente de Assimetria',\n",
        "                 'Extensão do sulgo do núcleo',\n",
        "                 '1',\n",
        "                 '2',\n",
        "                 '3']"
      ]
    },
    {
      "cell_type": "code",
      "execution_count": null,
      "metadata": {
        "id": "xtXmJkAhoAj3"
      },
      "outputs": [],
      "source": [
        "# 3. remover colunas extras no final\n",
        "seeds = seeds.drop('1',axis=1)\n",
        "seeds = seeds.drop('2',axis=1)\n",
        "seeds = seeds.drop('3',axis=1)"
      ]
    },
    {
      "cell_type": "code",
      "execution_count": null,
      "metadata": {
        "id": "o1lP6-GqoD7E"
      },
      "outputs": [],
      "source": [
        "# 4. remover as linhas com valores nulos\n",
        "seeds.dropna(inplace=True)"
      ]
    },
    {
      "cell_type": "code",
      "execution_count": null,
      "metadata": {
        "id": "f06MdPkHoXu3"
      },
      "outputs": [],
      "source": [
        "# 5. Adicionar um campo Compactação cujo o cálculo é C = 4*pi*A/P^2\n",
        "seeds[\"Campo Compactação\"] = 4 * np.pi * seeds[\"Área A\"]/seeds[\"Perímetro P\"]**2\n"
      ]
    },
    {
      "cell_type": "code",
      "execution_count": null,
      "metadata": {
        "id": "gmZc-VMboqsL"
      },
      "outputs": [],
      "source": [
        "# 6. Exportar para CSV o valor final\n",
        "seeds.to_csv('seedsCSV\\seedsCSV.csv')"
      ]
    },
    {
      "cell_type": "code",
      "execution_count": null,
      "metadata": {
        "colab": {
          "base_uri": "https://localhost:8080/"
        },
        "id": "eZ0VnEMtpQ5x",
        "outputId": "216ff6cd-162d-4704-d640-ca578f33d093"
      },
      "outputs": [
        {
          "name": "stdout",
          "output_type": "stream",
          "text": [
            "     Área A  Perímetro P  Extensão do núcleo  Largura  \\\n",
            "0     15.26        14.84               5.763    3.312   \n",
            "1     14.88        14.57               5.554    3.333   \n",
            "2     14.29        14.09               5.291    3.337   \n",
            "3     13.84        13.94               5.324    3.379   \n",
            "4     16.14        14.99               5.658    3.562   \n",
            "..      ...          ...                 ...      ...   \n",
            "205   12.19        13.20               5.137    2.981   \n",
            "206   11.23        12.88               5.140    2.795   \n",
            "207   13.20        13.66               5.236    3.232   \n",
            "208   11.84        13.21               5.175    2.836   \n",
            "209   12.30        13.34               5.243    2.974   \n",
            "\n",
            "     Coeficiente de Assimetria  Extensão do sulgo do núcleo  Campo Compactação  \n",
            "0                        2.221                        5.220           0.870756  \n",
            "1                        1.018                        4.956           0.880833  \n",
            "2                        2.699                        4.825           0.904524  \n",
            "3                        2.259                        4.805           0.894995  \n",
            "4                        1.355                        5.175           0.902631  \n",
            "..                         ...                          ...                ...  \n",
            "205                      3.631                        4.870           0.879156  \n",
            "206                      4.325                        5.003           0.850664  \n",
            "207                      8.315                        5.056           0.888960  \n",
            "208                      3.598                        5.044           0.852621  \n",
            "209                      5.637                        5.063           0.868567  \n",
            "\n",
            "[205 rows x 7 columns]\n"
          ]
        }
      ],
      "source": [
        "print(seeds)"
      ]
    }
  ],
  "metadata": {
    "colab": {
      "provenance": [],
      "toc_visible": true
    },
    "kernelspec": {
      "display_name": "Python 3.10.5 64-bit",
      "language": "python",
      "name": "python3"
    },
    "language_info": {
      "codemirror_mode": {
        "name": "ipython",
        "version": 3
      },
      "file_extension": ".py",
      "mimetype": "text/x-python",
      "name": "python",
      "nbconvert_exporter": "python",
      "pygments_lexer": "ipython3",
      "version": "3.10.5"
    },
    "vscode": {
      "interpreter": {
        "hash": "516051120dc4bd2f8f345bc6374ecbd6a37b0f25b9d8b19f05071267ad994e24"
      }
    }
  },
  "nbformat": 4,
  "nbformat_minor": 0
}

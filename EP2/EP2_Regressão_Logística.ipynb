{
  "nbformat": 4,
  "nbformat_minor": 0,
  "metadata": {
    "colab": {
      "provenance": []
    },
    "kernelspec": {
      "name": "python3",
      "display_name": "Python 3"
    },
    "language_info": {
      "name": "python"
    }
  },
  "cells": [
    {
      "cell_type": "code",
      "execution_count": 267,
      "metadata": {
        "id": "HWpWhAf4g8mS"
      },
      "outputs": [],
      "source": [
        "import numpy as np\n",
        "import pandas as pd\n",
        "import matplotlib.pyplot as plt\n",
        "import math as m\n",
        "\n",
        "notas = pd.read_csv('https://raw.githubusercontent.com/celsocrivelaro/simple-datasets/main/notas-estudantes.csv')\n",
        "notas\n",
        "\n",
        "x = np.array(notas['nota_1'], dtype=float)\n",
        "y = np.array(notas['nota_2'], dtype=float)\n",
        "z = np.array(notas['resultado'])\n"
      ]
    },
    {
      "cell_type": "code",
      "source": [
        "def plotData(data, label_x, label_y, label_pos, label_neg, axes=None):\n",
        "    neg = (notas['resultado'] == 0)\n",
        "    pos = (notas['resultado'] == 1)\n",
        "    \n",
        "    if axes == None:\n",
        "        axes = plt.gca()\n",
        "    axes.scatter(data[pos][[\"nota_1\"]], data[pos][[\"nota_2\"]], marker='+', c='k', s=60, linewidth=2, label=label_pos)\n",
        "    axes.scatter(data[neg][[\"nota_1\"]], data[neg][[\"nota_2\"]], c='y', s=60, label=label_neg)\n",
        "    axes.set_xlabel(label_x)\n",
        "    axes.set_ylabel(label_y)\n",
        "    axes.legend(frameon= True, fancybox = True);"
      ],
      "metadata": {
        "id": "7IkJO1iIioJa"
      },
      "execution_count": 268,
      "outputs": []
    },
    {
      "cell_type": "code",
      "source": [
        "plotData(notas, 'Nota 1', 'Nota 2', 'Aprovado', 'Reprovado')"
      ],
      "metadata": {
        "colab": {
          "base_uri": "https://localhost:8080/",
          "height": 279
        },
        "id": "5tUVB0dUi2WG",
        "outputId": "f53ee1d9-dbf0-42bb-f9f8-5040870cf702"
      },
      "execution_count": 270,
      "outputs": [
        {
          "output_type": "display_data",
          "data": {
            "text/plain": [
              "<Figure size 432x288 with 1 Axes>"
            ],
            "image/png": "[encoded data removed]"
          },
          "metadata": {
            "needs_background": "light"
          }
        }
      ]
    },
    {
      "cell_type": "code",
      "source": [
        "def sigmoide(x,y,a,b,c):\n",
        "  return (1.0 / (np.exp(-(x*a+y*b+c))))"
      ],
      "metadata": {
        "id": "aa1ACRQ0fW9t"
      },
      "execution_count": 271,
      "outputs": []
    },
    {
      "cell_type": "code",
      "source": [
        "def perdaCrossEntropy(n,p,z):\n",
        "  return ((1.0/n) * (1.0 + np.sum(-z * np.log(p)) - np.sum((1 - z) * np.log(1 - p))))\n"
      ],
      "metadata": {
        "id": "Osq0DClhOT2T"
      },
      "execution_count": 272,
      "outputs": []
    },
    {
      "cell_type": "markdown",
      "source": [
        "z = f(x,y)\n",
        "\n",
        "∂L/∂a = 1/N * X * (p(x,y) - z)\n",
        "\n",
        "∂L/∂b = 1/N * Y * (p(x,y) - z)\n",
        "\n",
        "∂L/∂c = 1/N * 1 * (p(x,y) - z)"
      ],
      "metadata": {
        "id": "kySMiExdIlZ2"
      }
    },
    {
      "cell_type": "code",
      "source": [
        "def descidaDoGradiente(x, y, z, iteracoes = 1000, alfa = 1e-6,  limite_parada=1e-6):\n",
        "   a = 0.1\n",
        "   b = 0.001\n",
        "   c = 4\n",
        "   n = float(len(z))\n",
        "\n",
        "   perda = []\n",
        "   variacaoA = []\n",
        "   variacaoB = []\n",
        "   perdaAnterior = float('inf')\n",
        "\n",
        "   count = 0\n",
        "\n",
        "   for i in range(iteracoes):\n",
        "     p = sigmoide(x, y, a, b, c)\n",
        "\n",
        "     perdaAtual = perdaCrossEntropy(n,p,z)\n",
        "\n",
        "     if abs(perdaAnterior - perdaAtual) <= limite_parada:\n",
        "       count += 1\n",
        "       return (a, b, c, perda, variacaoA, variacaoB, count)\n",
        "         \n",
        "     perdaAnterior = perdaAtual\n",
        "\n",
        "     perda.append(perdaAtual)\n",
        "     variacaoA.append(a)\n",
        "     variacaoB.append(b)\n",
        "\n",
        "     derivada_a = (1.0 / n) * np.sum(x * (p - z))\n",
        "     derivada_b = (1.0 / n) * np.sum(y * (p - z))\n",
        "     derivada_c = (1.0 / n) * np.sum(p - z)\n",
        "\n",
        "     a = a - (alfa * derivada_a)\n",
        "     b = b - (alfa * derivada_b)\n",
        "     c = c - (alfa * derivada_c)\n",
        "    \n",
        "\n",
        "     count += 1\n",
        "     \n",
        "     return (a, b, c, perda, variacaoA, variacaoB,count)\n",
        "\n",
        "\n"
      ],
      "metadata": {
        "id": "zdjG3qECPm1w"
      },
      "execution_count": 273,
      "outputs": []
    },
    {
      "cell_type": "code",
      "source": [
        "a, b, c, perda, varicaoA, variacaoB, iteracoes = descidaDoGradiente(x=x, y=y, z=z)\n",
        "a, b, c, perda2, varicaoA, variacaoB, iteracoes2 = descidaDoGradiente(x=x, y=y, z=z, alfa = 0.1, limite_parada=1e-3)\n",
        "a, b, c, perda3, varicaoA, variacaoB, iteracoes3 = descidaDoGradiente(x=x, y=y, z=z, alfa = 0.01, limite_parada=1e-6)\n",
        "\n",
        "\n",
        "print(\"a: {0}\\nb: {1}\\nc: {2}\\niterações: {3}\".format(a,b,c,iteracoes))"
      ],
      "metadata": {
        "id": "OVH_GDeaUPe4",
        "outputId": "b9de0c2e-980c-4d53-acac-b674ab574d6a",
        "colab": {
          "base_uri": "https://localhost:8080/"
        }
      },
      "execution_count": 274,
      "outputs": [
        {
          "output_type": "stream",
          "name": "stdout",
          "text": [
            "a: -157921.4670047195\n",
            "b: -114778.69019212974\n",
            "c: -1756.5409690734543\n",
            "iterações: 1\n"
          ]
        },
        {
          "output_type": "stream",
          "name": "stderr",
          "text": [
            "/usr/local/lib/python3.7/dist-packages/ipykernel_launcher.py:2: RuntimeWarning: invalid value encountered in log\n",
            "  \n"
          ]
        }
      ]
    },
    {
      "cell_type": "code",
      "source": [
        "x = range(iteracoes)\n",
        "plt.plot(x, perda)\n",
        "plt.xlabel(\"Iterações\")\n",
        "plt.ylabel(\"Erro\")\n",
        "plt.show()\n",
        "\n",
        "x = range(iteracoes2)\n",
        "plt.plot(x, perda2)\n",
        "plt.xlabel(\"Iterações\")\n",
        "plt.ylabel(\"Erro\")\n",
        "plt.show()\n",
        "\n",
        "x = range(iteracoes3)\n",
        "plt.plot(x, perda3)\n",
        "plt.xlabel(\"Iterações\")\n",
        "plt.ylabel(\"Erro\")\n",
        "plt.show()"
      ],
      "metadata": {
        "id": "1oM5_VI5DPg-",
        "outputId": "d24c205b-b850-420d-ec74-af17f89b9cee",
        "colab": {
          "base_uri": "https://localhost:8080/",
          "height": 803
        }
      },
      "execution_count": 264,
      "outputs": [
        {
          "output_type": "display_data",
          "data": {
            "text/plain": [
              "<Figure size 432x288 with 1 Axes>"
            ],
            "image/png": "[encoded data removed]"
          },
          "metadata": {
            "needs_background": "light"
          }
        },
        {
          "output_type": "display_data",
          "data": {
            "text/plain": [
              "<Figure size 432x288 with 1 Axes>"
            ],
            "image/png": "[encoded data removed]"
          },
          "metadata": {
            "needs_background": "light"
          }
        },
        {
          "output_type": "display_data",
          "data": {
            "text/plain": [
              "<Figure size 432x288 with 1 Axes>"
            ],
            "image/png": "[encoded data removed]"
          },
          "metadata": {
            "needs_background": "light"
          }
        }
      ]
    },
    {
      "cell_type": "markdown",
      "source": [],
      "metadata": {
        "id": "qOi9fHiWlqJG"
      }
    }
  ]
}
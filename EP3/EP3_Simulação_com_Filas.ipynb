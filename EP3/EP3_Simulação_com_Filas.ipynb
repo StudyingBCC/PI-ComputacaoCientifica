{
  "nbformat": 4,
  "nbformat_minor": 0,
  "metadata": {
    "colab": {
      "provenance": []
    },
    "kernelspec": {
      "name": "python3",
      "display_name": "Python 3"
    },
    "language_info": {
      "name": "python"
    }
  },
  "cells": [
    {
      "cell_type": "markdown",
      "source": [
        "# Simulação de Filas com pesagem de caminhões\n",
        "\n",
        "Baseado em \n",
        "1. https://towardsdatascience.com/introduction-to-simulation-with-simpy-322606d4ba0c\n",
        "2. https://towardsdatascience.com/introduction-to-simulation-with-simpy-8d744c82dc80"
      ],
      "metadata": {
        "id": "HdnJexCH479c"
      }
    },
    {
      "cell_type": "code",
      "execution_count": null,
      "metadata": {
        "id": "rpQHpOUJ2Mqm",
        "colab": {
          "base_uri": "https://localhost:8080/"
        },
        "outputId": "1addb68a-d880-4ac4-ab7a-ce12114b9bcb"
      },
      "outputs": [
        {
          "output_type": "stream",
          "name": "stdout",
          "text": [
            "Looking in indexes: https://pypi.org/simple, https://us-python.pkg.dev/colab-wheels/public/simple/\n",
            "Requirement already satisfied: simpy in /usr/local/lib/python3.8/dist-packages (4.0.1)\n"
          ]
        }
      ],
      "source": [
        "!pip install simpy\n",
        "import simpy\n",
        "import pandas as pd\n",
        "import numpy  as np\n",
        "from scipy.stats import norm"
      ]
    },
    {
      "cell_type": "code",
      "source": [
        "# listas de horários de chegada e saída das fila\n",
        "chegadas, saidas = [],[]\n",
        "# listas de horários de chegada e saída das filas\n",
        "# Tempo que demora na fila, tempo que demora pagando\n",
        "in_queue, in_system  = [],[]\n",
        "# tempo na fila e tamanho das filas\n",
        "horarios_nas_filas, tamanho_da_fila = [],[]"
      ],
      "metadata": {
        "id": "3mHio5H33hri"
      },
      "execution_count": null,
      "outputs": []
    },
    {
      "cell_type": "markdown",
      "source": [
        "# Funções com simulações de cada momento"
      ],
      "metadata": {
        "id": "G6RhKF4h6U6a"
      }
    },
    {
      "cell_type": "markdown",
      "source": [
        "Funções auxiliares para guardar informações de tempo e tamanho das filas"
      ],
      "metadata": {
        "id": "CBQBlFaEoNhS"
      }
    },
    {
      "cell_type": "code",
      "source": [
        "def salva_info_da_fila(env, compra):\n",
        "    horario_pagamento = env.now\n",
        "    tamanho_da_fila_agora = len(compra.queue)\n",
        "    horarios_nas_filas.append(horario_pagamento)\n",
        "    tamanho_da_fila.append(tamanho_da_fila_agora)\n",
        "\n",
        "    return horario_pagamento\n",
        "\n",
        "def distribuicao_chegada_de_users():\n",
        "  tempo_do_proximo_user = expon.rvs(scale = CHEGADA_DE_USERS_POR_TEMPO, size = 1)\n",
        "  return tempo_do_proximo_user\n",
        "\n",
        "def calcula_tempo_no_sistema(env, horario_chegada):\n",
        "  horario_saida = env.now\n",
        "  saidas.append(horario_saida)\n",
        "  tempo_total = horario_saida - horario_chegada\n",
        "  in_system.append(tempo_total)"
      ],
      "metadata": {
        "id": "Kg7Myr6boKLE"
      },
      "execution_count": null,
      "outputs": []
    },
    {
      "cell_type": "code",
      "source": [
        "from scipy.stats import expon\n",
        "\n",
        "CHEGADA_DE_USERS_POR_TEMPO = 5\n",
        "MEDIA_DO_TEMPO_DA_COMPRA_DO_INGRESSO = 20.0\n",
        "DESVIO_PADRAO_DA_COMPRA_DO_INGRESSO = 0.5\n",
        "\n",
        "# Função que define a chegada de users\n",
        "# usando funcao de distribuicao de probabilidade,\n",
        "# define a ordem e tempo de chegada dos users\n",
        "def chegada_dos_users(env):\n",
        "    # ID para cada user\n",
        "    user_id = 0\n",
        "\n",
        "    while True:\n",
        "       ## tempo de chegada do proximo user\n",
        "       tempo_do_proximo_user = distribuicao_chegada_de_users()\n",
        "       # espera pelo próximo user\n",
        "       yield env.timeout(tempo_do_proximo_user)\n",
        "\n",
        "       # user chegou, marca o tempo e guarda o tempo de chegada\n",
        "       tempo_de_chegada = env.now\n",
        "       chegadas.append(tempo_de_chegada)\n",
        "       user_id += 1\n",
        "       print('%3d entrou no site em %.2f' % (user_id, tempo_de_chegada))\n",
        "       \n",
        "       # executa a compra\n",
        "       env.process(compra(env, user_id, tempo_de_chegada))\n",
        "\n",
        "# pega o tempo de compra do ingresso\n",
        "def tempo_de_compra_do_ingresso():\n",
        "  return norm.rvs(loc = MEDIA_DO_TEMPO_DA_COMPRA_DO_INGRESSO, \n",
        "                  scale = DESVIO_PADRAO_DA_COMPRA_DO_INGRESSO, \n",
        "                  size = 1)\n",
        "\n",
        "\n",
        "\n",
        "# executa a compra do ingresso\n",
        "def compra(env, user_id, horario_chegada):\n",
        "    with entrar_no_site.request() as req:\n",
        "        print('%3d entrou na fila em %.2f' % (user_id, env.now))\n",
        "        horario_entrada_da_fila = salva_info_da_fila(env, entrar_no_site)\n",
        "        yield req # espera o caixa ser liberado\n",
        "        \n",
        "        print('%3d saiu da fila em %.2f' % (user_id, env.now))\n",
        "        horario_saida_da_fila = salva_info_da_fila(env, entrar_no_site)\n",
        "\n",
        "        # tempo que ficou na fila\n",
        "        tempo_na_fila = horario_saida_da_fila - horario_entrada_da_fila\n",
        "        in_queue.append(tempo_na_fila)\n",
        "\n",
        "        # Execução da compra do ingresso\n",
        "        tempo_compra = tempo_de_compra_do_ingresso()\n",
        "        yield env.timeout(tempo_compra)\n",
        "        print('%3d permaneceu por %.2f' % (user_id, tempo_compra))\n",
        "\n",
        "        # tempo total da operacao de compra + fila\n",
        "        calcula_tempo_no_sistema(env, horario_chegada)"
      ],
      "metadata": {
        "id": "tmwpKHUw339Q"
      },
      "execution_count": null,
      "outputs": []
    },
    {
      "cell_type": "code",
      "source": [
        "# Simulação irá demorar 300 tempos\n",
        "TEMPO_DE_SIMULACAO  = 300\n",
        "\n",
        "# Seed fixo. Assim, será o mesmo valor todas as vezes que executarmos\n",
        "## selecting a random seed for the probability distributions\n",
        "## defining the truck arrival process\n",
        "np.random.seed(seed = 1)\n",
        "\n",
        "## prepara o ambiente\n",
        "env = simpy.Environment()\n",
        "\n",
        "## Definindo recursos: Quantidade de caixas disponíveis\n",
        "QUANTIDADE_DE_CAIXAS_DISPONIVEIS = 1\n",
        "entrar_no_site = simpy.Resource(env, capacity = QUANTIDADE_DE_CAIXAS_DISPONIVEIS)\n",
        "\n",
        "env.process(chegada_dos_users(env))\n",
        "\n",
        "# Roda a simulação\n",
        "env.run(until = TEMPO_DE_SIMULACAO)"
      ],
      "metadata": {
        "colab": {
          "base_uri": "https://localhost:8080/"
        },
        "id": "Ss17g38a6-xZ",
        "outputId": "70f41142-7d4a-4b45-cbac-43b780b5e337"
      },
      "execution_count": null,
      "outputs": [
        {
          "output_type": "stream",
          "name": "stdout",
          "text": [
            "  1 entrou no site em 2.70\n",
            "  1 entrou na fila em 2.70\n",
            "  1 saiu da fila em 2.70\n",
            "  2 entrou no site em 9.07\n",
            "  2 entrou na fila em 9.07\n",
            "  3 entrou no site em 11.60\n",
            "  3 entrou na fila em 11.60\n",
            "  4 entrou no site em 15.47\n",
            "  4 entrou na fila em 15.47\n",
            "  5 entrou no site em 18.18\n",
            "  5 entrou na fila em 18.18\n",
            "  1 permaneceu por 19.74\n",
            "  2 saiu da fila em 22.43\n",
            "  6 entrou no site em 23.96\n",
            "  6 entrou na fila em 23.96\n",
            "  7 entrou no site em 25.11\n",
            "  7 entrou na fila em 25.11\n",
            "  8 entrou no site em 35.63\n",
            "  8 entrou na fila em 35.63\n",
            "  9 entrou no site em 35.77\n",
            "  9 entrou na fila em 35.77\n",
            " 10 entrou no site em 41.32\n",
            " 10 entrou na fila em 41.32\n",
            "  2 permaneceu por 19.46\n",
            "  3 saiu da fila em 41.90\n",
            " 11 entrou no site em 44.02\n",
            " 11 entrou na fila em 44.02\n",
            " 12 entrou no site em 45.12\n",
            " 12 entrou na fila em 45.12\n",
            " 13 entrou no site em 53.19\n",
            " 13 entrou na fila em 53.19\n",
            "  3 permaneceu por 19.44\n",
            "  4 saiu da fila em 61.34\n",
            " 14 entrou no site em 70.44\n",
            " 14 entrou na fila em 70.44\n",
            " 15 entrou no site em 72.32\n",
            " 15 entrou na fila em 72.32\n",
            " 16 entrou no site em 78.21\n",
            " 16 entrou na fila em 78.21\n",
            "  4 permaneceu por 20.09\n",
            "  5 saiu da fila em 81.43\n",
            " 17 entrou no site em 88.67\n",
            " 17 entrou na fila em 88.67\n",
            " 18 entrou no site em 92.48\n",
            " 18 entrou na fila em 92.48\n",
            " 19 entrou no site em 98.36\n",
            " 19 entrou na fila em 98.36\n",
            " 20 entrou no site em 100.26\n",
            " 20 entrou na fila em 100.26\n",
            "  5 permaneceu por 20.27\n",
            "  6 saiu da fila em 101.70\n",
            " 21 entrou no site em 106.06\n",
            " 21 entrou na fila em 106.06\n",
            " 22 entrou no site em 115.05\n",
            " 22 entrou na fila em 115.05\n",
            " 23 entrou no site em 115.15\n",
            " 23 entrou na fila em 115.15\n",
            "  6 permaneceu por 19.95\n",
            "  7 saiu da fila em 121.65\n",
            " 24 entrou no site em 122.08\n",
            " 24 entrou na fila em 122.08\n",
            " 25 entrou no site em 122.63\n",
            " 25 entrou na fila em 122.63\n",
            " 26 entrou no site em 125.60\n",
            " 26 entrou na fila em 125.60\n",
            " 27 entrou no site em 137.56\n",
            " 27 entrou na fila em 137.56\n",
            " 28 entrou no site em 139.30\n",
            " 28 entrou na fila em 139.30\n",
            " 29 entrou no site em 140.99\n",
            " 29 entrou na fila em 140.99\n",
            " 30 entrou no site em 141.69\n",
            " 30 entrou na fila em 141.69\n",
            " 31 entrou no site em 141.79\n",
            " 31 entrou na fila em 141.79\n",
            "  7 permaneceu por 20.45\n",
            "  8 saiu da fila em 142.10\n",
            " 32 entrou no site em 147.47\n",
            " 32 entrou na fila em 147.47\n",
            " 33 entrou no site em 148.66\n",
            " 33 entrou na fila em 148.66\n",
            " 34 entrou no site em 150.20\n",
            " 34 entrou na fila em 150.20\n",
            " 35 entrou no site em 153.58\n",
            " 35 entrou na fila em 153.58\n",
            " 36 entrou no site em 153.85\n",
            " 36 entrou na fila em 153.85\n",
            " 37 entrou no site em 158.12\n",
            " 37 entrou na fila em 158.12\n",
            " 38 entrou no site em 158.92\n",
            " 38 entrou na fila em 158.92\n",
            "  8 permaneceu por 19.66\n",
            "  9 saiu da fila em 161.76\n",
            " 39 entrou no site em 163.37\n",
            " 39 entrou na fila em 163.37\n",
            " 40 entrou no site em 166.04\n",
            " 40 entrou na fila em 166.04\n",
            " 41 entrou no site em 171.97\n",
            " 41 entrou na fila em 171.97\n",
            " 42 entrou no site em 174.64\n",
            " 42 entrou na fila em 174.64\n",
            " 43 entrou no site em 174.90\n",
            " 43 entrou na fila em 174.90\n",
            " 44 entrou no site em 178.73\n",
            " 44 entrou na fila em 178.73\n",
            "  9 permaneceu por 19.70\n",
            " 10 saiu da fila em 181.46\n",
            " 45 entrou no site em 184.18\n",
            " 45 entrou na fila em 184.18\n",
            " 46 entrou no site em 187.80\n",
            " 46 entrou na fila em 187.80\n",
            " 10 permaneceu por 20.15\n",
            " 11 saiu da fila em 201.61\n",
            " 47 entrou no site em 202.27\n",
            " 47 entrou na fila em 202.27\n",
            " 48 entrou no site em 203.01\n",
            " 48 entrou na fila em 203.01\n",
            " 49 entrou no site em 203.76\n",
            " 49 entrou na fila em 203.76\n",
            " 50 entrou no site em 211.99\n",
            " 50 entrou na fila em 211.99\n",
            " 51 entrou no site em 214.53\n",
            " 51 entrou na fila em 214.53\n",
            " 52 entrou no site em 215.43\n",
            " 52 entrou na fila em 215.43\n",
            " 11 permaneceu por 20.43\n",
            " 12 saiu da fila em 222.04\n",
            " 53 entrou no site em 228.55\n",
            " 53 entrou na fila em 228.55\n",
            " 54 entrou no site em 230.69\n",
            " 54 entrou na fila em 230.69\n",
            " 55 entrou no site em 237.64\n",
            " 55 entrou na fila em 237.64\n",
            " 12 permaneceu por 20.09\n",
            " 13 saiu da fila em 242.13\n",
            " 56 entrou no site em 244.11\n",
            " 56 entrou na fila em 244.11\n",
            " 57 entrou no site em 251.06\n",
            " 57 entrou na fila em 251.06\n",
            " 58 entrou no site em 253.20\n",
            " 58 entrou na fila em 253.20\n",
            " 59 entrou no site em 254.78\n",
            " 59 entrou na fila em 254.78\n",
            " 13 permaneceu por 20.14\n",
            " 14 saiu da fila em 262.27\n",
            " 60 entrou no site em 266.09\n",
            " 60 entrou na fila em 266.09\n",
            " 61 entrou no site em 268.88\n",
            " 61 entrou na fila em 268.88\n",
            " 14 permaneceu por 20.44\n",
            " 15 saiu da fila em 282.72\n",
            " 62 entrou no site em 285.62\n",
            " 62 entrou na fila em 285.62\n",
            " 63 entrou no site em 286.23\n",
            " 63 entrou na fila em 286.23\n"
          ]
        }
      ]
    },
    {
      "cell_type": "markdown",
      "source": [
        "# Análise dos Resultados"
      ],
      "metadata": {
        "id": "sVtvf2Hw6P2w"
      }
    },
    {
      "cell_type": "code",
      "source": [
        "df1 = pd.DataFrame(horarios_nas_filas, columns = ['horario'])\n",
        "df2 = pd.DataFrame(tamanho_da_fila, columns = ['tamanho'])\n",
        "df3 = pd.DataFrame(chegadas, columns = ['chegadas'])\n",
        "df4 = pd.DataFrame(saidas, columns = ['partidas'])\n",
        "\n",
        "df_tamanho_da_fila = pd.concat([df1, df2], axis = 1)\n",
        "df_entrada_saida = pd.concat([df3, df4], axis = 1)\n"
      ],
      "metadata": {
        "id": "3sxDOh254RKY"
      },
      "execution_count": null,
      "outputs": []
    },
    {
      "cell_type": "markdown",
      "source": [
        "# Gráfico com as entradas e saídas de cada user\n"
      ],
      "metadata": {
        "id": "gqZSDH0xpY_v"
      }
    },
    {
      "cell_type": "code",
      "source": [
        "import matplotlib.pyplot as plt\n",
        "\n",
        "fig, ax = plt.subplots()\n",
        "fig.set_size_inches(10, 5.4)\n",
        "\n",
        "x1, y1 = list(df_entrada_saida['chegadas'].keys()), df_entrada_saida['chegadas']\n",
        "x2, y2 = list(df_entrada_saida['partidas'].keys()), df_entrada_saida['partidas']\n",
        "\n",
        "ax.plot(x1, y1, color='blue', marker=\"o\", linewidth=0, label=\"Chegada\")\n",
        "ax.plot(x2, y2, color='red', marker=\"o\", linewidth=0, label=\"Saída\")\n",
        "ax.set_xlabel('Tempo')\n",
        "ax.set_ylabel('Users ID')\n",
        "ax.set_title(\"Chegadas & Saídas do site\")\n",
        "ax.legend()"
      ],
      "metadata": {
        "id": "R22eKwzv4UWB",
        "colab": {
          "base_uri": "https://localhost:8080/",
          "height": 388
        },
        "outputId": "f3b6cfbd-34ad-4263-8a58-c398295d9150"
      },
      "execution_count": null,
      "outputs": [
        {
          "output_type": "execute_result",
          "data": {
            "text/plain": [
              "<matplotlib.legend.Legend at 0x7fd7fb604910>"
            ]
          },
          "metadata": {},
          "execution_count": 142
        },
        {
          "output_type": "display_data",
          "data": {
            "text/plain": [
              "<Figure size 720x388.8 with 1 Axes>"
            ],
            "image/png": "[encoded data removed]"
          },
          "metadata": {
            "needs_background": "light"
          }
        }
      ]
    },
    {
      "cell_type": "markdown",
      "source": [
        "# Gráfico com o tempo com o tamanho de tempo na fila"
      ],
      "metadata": {
        "id": "gs8cfrHFphzt"
      }
    },
    {
      "cell_type": "code",
      "source": [
        "import matplotlib.pyplot as plt\n",
        "\n",
        "fig, ax = plt.subplots()\n",
        "fig.set_size_inches(10, 5.4)\n",
        "\n",
        "ax.plot(df_tamanho_da_fila['horario'], df_tamanho_da_fila['tamanho'], color='blue', linewidth=1)\n",
        "ax.set_xlabel('Tempo')\n",
        "ax.set_ylabel('No Users')\n",
        "ax.set_title('Número de users na fila')\n",
        "ax.grid()"
      ],
      "metadata": {
        "id": "Yc-lim679UGa",
        "colab": {
          "base_uri": "https://localhost:8080/",
          "height": 371
        },
        "outputId": "10ad8e53-8148-4579-ef09-35dcdfe17f28"
      },
      "execution_count": null,
      "outputs": [
        {
          "output_type": "display_data",
          "data": {
            "text/plain": [
              "<Figure size 720x388.8 with 1 Axes>"
            ],
            "image/png": "[encoded data removed]"
          },
          "metadata": {
            "needs_background": "light"
          }
        }
      ]
    },
    {
      "cell_type": "markdown",
      "source": [
        "# Métricas Globais"
      ],
      "metadata": {
        "id": "yKfF24D6p_Oy"
      }
    },
    {
      "cell_type": "code",
      "source": [
        "NUMERO_DE_DESISTENTES = 7\n",
        "\n",
        "## finds the time average number of customers in the waiting line\n",
        "## use the next row to figure out how long the queue was   \n",
        "def media_fila(df_tamanho_fila):\n",
        "  df_tamanho_fila['delta'] = df_tamanho_fila['horario'].shift(-1) - df_tamanho_fila['horario']\n",
        "  ## drop the last row because it would have an infinite delta time \n",
        "  # remote a linha anteruir para não ter delta infinuto\n",
        "  df_tamanho_fila = df_tamanho_fila[0:-1]\n",
        "  return np.average(df_tamanho_fila['tamanho'], weights=df_tamanho_fila['delta'])\n",
        "\n",
        "def utilizacao_servico(df_tamanho_fila):\n",
        "   soma_servico_livre = df_tamanho_fila[df_tamanho_fila['tamanho']==0]['delta'].sum()\n",
        "   # processo começa com o serviço vazio\n",
        "   primeiro_evento =  df_tamanho_fila['horario'].iloc[0]\n",
        "   soma_servico_livre = soma_servico_livre + primeiro_evento\n",
        "   return round((1 - soma_servico_livre / TEMPO_DE_SIMULACAO) * 100, 2)\n",
        "\n",
        "## Encontra a procentagem de users que não quiseram esperar\n",
        "def porcetagem_de_nao_esperaram(df_tamanho_fila):\n",
        "   soma_nao_esperaram = df_tamanho_fila[df_tamanho_fila['tamanho'] <= NUMERO_DE_DESISTENTES]['delta'].sum()\n",
        "   return round((soma_nao_esperaram / TEMPO_DE_SIMULACAO) * 100, 2)\n",
        "\n",
        "\n",
        "print('O tempo médio na fila é de %.2f'  % (np.mean(in_queue)))\n",
        "print('O tempo médio no sistema é %.2f' % (np.mean(in_system)))\n",
        "\n",
        "print('O número médio de usuários na fila é %.2f' %  (media_fila(df_tamanho_da_fila)))\n",
        "print('A utilizacao do serviço é %.2f' % (utilizacao_servico(df_tamanho_da_fila)))\n",
        "\n",
        "print('A probabilidade de usuários que desistem na fila é %.2f' % (porcetagem_de_nao_esperaram(df_tamanho_da_fila)))"
      ],
      "metadata": {
        "id": "x6FiUlSEp-Z2",
        "colab": {
          "base_uri": "https://localhost:8080/"
        },
        "outputId": "c4448638-6351-44a5-eeaf-77d2d68f7696"
      },
      "execution_count": null,
      "outputs": [
        {
          "output_type": "stream",
          "name": "stdout",
          "text": [
            "O tempo médio na fila é de 108.36\n",
            "O tempo médio no sistema é 121.07\n",
            "O número médio de usuários na fila é 24.58\n",
            "A utilizacao do serviço é 96.98\n",
            "A probabilidade de usuários que desistem na fila é 13.58\n"
          ]
        }
      ]
    }
  ]
}